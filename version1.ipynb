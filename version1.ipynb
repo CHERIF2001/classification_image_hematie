{
 "cells": [
  {
   "cell_type": "code",
   "execution_count": 2,
   "metadata": {},
   "outputs": [],
   "source": [
    "import pandas \n",
    "import cv2\n",
    "import os \n",
    "import numpy \n",
    "from sklearn.preprocessing import LabelEncoder\n",
    "from tensorflow.keras.preprocessing.image import img_to_array, load_img\n",
    "\n"
   ]
  },
  {
   "cell_type": "code",
   "execution_count": 5,
   "metadata": {},
   "outputs": [],
   "source": [
    "\n",
    "data_path = \"C:/HETIC\\Mes projets/classification_image_hematie/malaria_hematie_dataset\"\n",
    "\n",
    "uninfected_path = os.path.join(data_path, \"uninfected\")\n",
    "parasitized_path = os.path.join(data_path, \"parasitized\")\n",
    "\n",
    "uninfected_images = os.listdir(uninfected_path)\n",
    "parasitized_images = os.listdir(parasitized_path)\n",
    "\n",
    "uninfected_array = numpy.zeros(shape=(1200,224, 224))\n",
    "parasitized_array = numpy.zeros(shape=(1200,224, 224))\n",
    "\n",
    "\n",
    "\n"
   ]
  },
  {
   "cell_type": "code",
   "execution_count": 8,
   "metadata": {},
   "outputs": [
    {
     "name": "stdout",
     "output_type": "stream",
     "text": [
      "il y a 27558 images en tout\n"
     ]
    }
   ],
   "source": [
    "# compter le nombre d'images dans le dossier \n",
    "\n",
    "data_dir = os.path.splitext(data_path)[0]\n",
    "\n",
    "image_count = 0\n",
    "for root, dirs, files in os.walk(data_dir):\n",
    "    for file in files:\n",
    "        if file.endswith(\".png\"):\n",
    "            image_count += 1\n",
    "\n",
    "print(f\"il y a {image_count} images en tout\")"
   ]
  },
  {
   "cell_type": "code",
   "execution_count": 9,
   "metadata": {},
   "outputs": [
    {
     "name": "stdout",
     "output_type": "stream",
     "text": [
      "nombre de cellules saines: 13779\n",
      "nombre de cellules infectés: 13779\n"
     ]
    }
   ],
   "source": [
    "# décompter le nombre d'image infecté et d'images saines\n",
    "\n",
    "uninfected_count = len([file for file in os.listdir(uninfected_path) if os.path.isfile(os.path.join(uninfected_path, file))])\n",
    "parasitized_count = len([file for file in os.listdir(parasitized_path) if os.path.isfile(os.path.join(parasitized_path, file))])\n",
    "\n",
    "print(\"nombre de cellules saines:\", uninfected_count)\n",
    "print(\"nombre de cellules infectés:\", parasitized_count)\n"
   ]
  },
  {
   "cell_type": "code",
   "execution_count": 3,
   "metadata": {},
   "outputs": [],
   "source": [
    "parasitized_path= \"C:/HETIC\\Mes projets/classification_image_hematie/malaria_hematie_dataset/parasitized\"\n",
    "uninfected_path= \"C:/HETIC\\Mes projets/classification_image_hematie/malaria_hematie_dataset/uninfected\""
   ]
  },
  {
   "cell_type": "code",
   "execution_count": 4,
   "metadata": {},
   "outputs": [],
   "source": [
    "def import_data(image_names, image_array): \n",
    "    \n",
    "\n"
   ]
  },
  {
   "cell_type": "code",
   "execution_count": 5,
   "metadata": {},
   "outputs": [
    {
     "ename": "UnboundLocalError",
     "evalue": "local variable 'img' referenced before assignment",
     "output_type": "error",
     "traceback": [
      "\u001b[1;31m---------------------------------------------------------------------------\u001b[0m",
      "\u001b[1;31mUnboundLocalError\u001b[0m                         Traceback (most recent call last)",
      "Cell \u001b[1;32mIn[5], line 1\u001b[0m\n\u001b[1;32m----> 1\u001b[0m parasitized_images, parasitized_labels \u001b[38;5;241m=\u001b[39m \u001b[43mload_data\u001b[49m\u001b[43m(\u001b[49m\u001b[43mparasitized_path\u001b[49m\u001b[43m)\u001b[49m\n",
      "Cell \u001b[1;32mIn[4], line 7\u001b[0m, in \u001b[0;36mload_data\u001b[1;34m(data_dir, target_size)\u001b[0m\n\u001b[0;32m      5\u001b[0m \u001b[38;5;28;01mfor\u001b[39;00m filename \u001b[38;5;129;01min\u001b[39;00m os\u001b[38;5;241m.\u001b[39mlistdir(data_dir):\n\u001b[0;32m      6\u001b[0m     img_path \u001b[38;5;241m=\u001b[39m os\u001b[38;5;241m.\u001b[39mpath\u001b[38;5;241m.\u001b[39mjoin(data_dir, filename)\n\u001b[1;32m----> 7\u001b[0m     \u001b[38;5;28;01mif\u001b[39;00m os\u001b[38;5;241m.\u001b[39mpath\u001b[38;5;241m.\u001b[39misfile(\u001b[43mimg\u001b[49m\u001b[38;5;241m.\u001b[39mpath):\n\u001b[0;32m      8\u001b[0m             \u001b[38;5;28;01mtry\u001b[39;00m:\n\u001b[0;32m      9\u001b[0m                 img \u001b[38;5;241m=\u001b[39m load_img(img_path, target_size\u001b[38;5;241m=\u001b[39mtarget_size)\n",
      "\u001b[1;31mUnboundLocalError\u001b[0m: local variable 'img' referenced before assignment"
     ]
    }
   ],
   "source": [
    "parasitized_images, parasitized_labels = load_data(parasitized_path)\n"
   ]
  },
  {
   "cell_type": "code",
   "execution_count": null,
   "metadata": {},
   "outputs": [],
   "source": []
  },
  {
   "cell_type": "code",
   "execution_count": null,
   "metadata": {},
   "outputs": [],
   "source": []
  }
 ],
 "metadata": {
  "kernelspec": {
   "display_name": "Python 3 (ipykernel)",
   "language": "python",
   "name": "python3"
  },
  "language_info": {
   "codemirror_mode": {
    "name": "ipython",
    "version": 3
   },
   "file_extension": ".py",
   "mimetype": "text/x-python",
   "name": "python",
   "nbconvert_exporter": "python",
   "pygments_lexer": "ipython3",
   "version": "3.10.11"
  }
 },
 "nbformat": 4,
 "nbformat_minor": 4
}
