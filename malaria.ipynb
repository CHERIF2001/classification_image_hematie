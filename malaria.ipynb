{
 "cells": [
  {
   "cell_type": "code",
   "execution_count": 10,
   "metadata": {},
   "outputs": [],
   "source": [
    "import os\n",
    "import pandas as pd \n",
    "from PIL import Image\n",
    "import numpy as np"
   ]
  },
  {
   "cell_type": "markdown",
   "metadata": {},
   "source": [
    "### MANIPULATION DES DONNEES"
   ]
  },
  {
   "cell_type": "markdown",
   "metadata": {},
   "source": [
    "#### Chargement du jeu de données"
   ]
  },
  {
   "cell_type": "code",
   "execution_count": 8,
   "metadata": {},
   "outputs": [
    {
     "name": "stdout",
     "output_type": "stream",
     "text": [
      "le nombre d'images d'hématies saines = 13779\n",
      "le nombre d'images d'hématies infectées = 13779\n"
     ]
    }
   ],
   "source": [
    "dataset_path = \"malaria_hematie_dataset/malaria_hematie_dataset\"\n",
    "\n",
    "## Ici, on charge le dossier qui contient les images des hématies non infectées et infectées\n",
    "uninfected_hematies_folder = os.path.join(dataset_path, \"uninfected\")\n",
    "parasitized_hematies_folder = os.path.join(dataset_path, \"parasitized\")\n",
    "\n",
    "## On récupère toutes les images contenu dans les dossiers ci-dessus et par défaut avec listdir, elles sont stockées dans une liste\n",
    "list_uninfected_hematies = os.listdir(uninfected_hematies_folder)\n",
    "list_parasitized_hematies = os.listdir(parasitized_hematies_folder)\n",
    "\n",
    "lenght_images = len(list_uninfected_hematies)\n",
    "print(f\"le nombre d'images d'hématies saines = {len(list_uninfected_hematies)}\")\n",
    "print(f\"le nombre d'images d'hématies infectées = {len(list_parasitized_hematies)}\")"
   ]
  },
  {
   "cell_type": "markdown",
   "metadata": {},
   "source": [
    "Procédons au mapping des données qui consiste à associer chaque image à sa classe dans un fichier"
   ]
  },
  {
   "cell_type": "code",
   "execution_count": 28,
   "metadata": {},
   "outputs": [],
   "source": [
    "hematies_data = {\n",
    "    \"image_name\" : list_uninfected_hematies + list_parasitized_hematies,\n",
    "    \"label\" : [\"uninfected\"] * len(list_uninfected_hematies) + [\"parasitized\"] *  len(list_parasitized_hematies)\n",
    "}\n",
    "df_malaria = pd.DataFrame(hematies_data)\n",
    "df_malaria.to_csv(\"hematies_data.csv\", index=False) "
   ]
  },
  {
   "cell_type": "code",
   "execution_count": 5,
   "metadata": {},
   "outputs": [
    {
     "data": {
      "text/plain": [
       "0        image_12701.png\n",
       "1        image_22319.png\n",
       "2        image_18876.png\n",
       "3        image_18287.png\n",
       "4        image_21495.png\n",
       "              ...       \n",
       "27553     image_9536.png\n",
       "27554    image_14566.png\n",
       "27555    image_20365.png\n",
       "27556    image_17381.png\n",
       "27557     image_1689.png\n",
       "Name: image_name, Length: 27558, dtype: object"
      ]
     },
     "execution_count": 5,
     "metadata": {},
     "output_type": "execute_result"
    }
   ],
   "source": [
    "import random\n",
    "random.seed(42)\n",
    "## Importation d'un jeu de données, fixer la seed et mélange des données\n",
    "\n",
    "df_malaria = pd.read_csv(\"hematies_data.csv\").sample(frac=1).reset_index(drop=True)\n",
    "df_malaria[\"image_name\"]\n"
   ]
  },
  {
   "cell_type": "code",
   "execution_count": 17,
   "metadata": {},
   "outputs": [],
   "source": [
    "# Création d'un array qui doit contenir toutes les images\n",
    "hematies_uninfected_array = np.zeros(shape=(lenght_images , 220, 220))\n",
    "hematies_parasitized_array = np.zeros(shape=(lenght_images , 220, 220))\n",
    "hematies_array = np.zeros(shape=(lenght_images*2 , 220, 220))\n",
    "\n"
   ]
  },
  {
   "cell_type": "code",
   "execution_count": 25,
   "metadata": {},
   "outputs": [],
   "source": [
    "## Création de la fonction lire des images pour la lecture des images\n",
    "\n",
    "\n",
    "def import_data(path_folder, list_hematies_path, images_array):\n",
    "    for index, image_file in enumerate(list_hematies_path):\n",
    "        image_path = os.path.join(path_folder, image_file)\n",
    "        image = Image.open(image_path).convert('L')\n",
    "        image_resized = image.resize((220, 220), Image.LANCZOS)\n",
    "        images_array[index] = np.array(image_resized)\n",
    "\n",
    "    return images_array\n",
    "\n",
    "hematies_uninfected_array = import_data(parasitized_hematies_folder, list_parasitized_hematies, hematies_parasitized_array)\n",
    "\n",
    "\n"
   ]
  },
  {
   "cell_type": "code",
   "execution_count": 28,
   "metadata": {},
   "outputs": [
    {
     "data": {
      "text/plain": [
       "array([[[0., 0., 0., ..., 0., 0., 0.],\n",
       "        [0., 0., 0., ..., 0., 0., 0.],\n",
       "        [0., 0., 0., ..., 0., 0., 0.],\n",
       "        ...,\n",
       "        [0., 0., 0., ..., 0., 0., 0.],\n",
       "        [0., 0., 0., ..., 0., 0., 0.],\n",
       "        [0., 0., 0., ..., 0., 0., 0.]],\n",
       "\n",
       "       [[0., 0., 0., ..., 0., 0., 0.],\n",
       "        [0., 0., 0., ..., 0., 0., 0.],\n",
       "        [0., 0., 0., ..., 0., 0., 0.],\n",
       "        ...,\n",
       "        [0., 0., 0., ..., 0., 0., 0.],\n",
       "        [0., 0., 0., ..., 0., 0., 0.],\n",
       "        [0., 0., 0., ..., 0., 0., 0.]],\n",
       "\n",
       "       [[0., 0., 0., ..., 0., 0., 0.],\n",
       "        [0., 0., 0., ..., 0., 0., 0.],\n",
       "        [0., 0., 0., ..., 0., 0., 0.],\n",
       "        ...,\n",
       "        [0., 0., 0., ..., 0., 0., 0.],\n",
       "        [0., 0., 0., ..., 0., 0., 0.],\n",
       "        [0., 0., 0., ..., 0., 0., 0.]],\n",
       "\n",
       "       ...,\n",
       "\n",
       "       [[0., 0., 0., ..., 0., 0., 0.],\n",
       "        [0., 0., 0., ..., 0., 0., 0.],\n",
       "        [0., 0., 0., ..., 0., 0., 0.],\n",
       "        ...,\n",
       "        [0., 0., 0., ..., 0., 0., 0.],\n",
       "        [0., 0., 0., ..., 0., 0., 0.],\n",
       "        [0., 0., 0., ..., 0., 0., 0.]],\n",
       "\n",
       "       [[0., 0., 0., ..., 0., 0., 0.],\n",
       "        [0., 0., 0., ..., 0., 0., 0.],\n",
       "        [0., 0., 0., ..., 0., 0., 0.],\n",
       "        ...,\n",
       "        [0., 0., 0., ..., 0., 0., 0.],\n",
       "        [0., 0., 0., ..., 0., 0., 0.],\n",
       "        [0., 0., 0., ..., 0., 0., 0.]],\n",
       "\n",
       "       [[0., 0., 0., ..., 0., 0., 0.],\n",
       "        [0., 0., 0., ..., 0., 0., 0.],\n",
       "        [0., 0., 0., ..., 0., 0., 0.],\n",
       "        ...,\n",
       "        [0., 0., 0., ..., 0., 0., 0.],\n",
       "        [0., 0., 0., ..., 0., 0., 0.],\n",
       "        [0., 0., 0., ..., 0., 0., 0.]]])"
      ]
     },
     "execution_count": 28,
     "metadata": {},
     "output_type": "execute_result"
    }
   ],
   "source": [
    "hematies_uninfected_array"
   ]
  },
  {
   "cell_type": "code",
   "execution_count": 35,
   "metadata": {},
   "outputs": [
    {
     "data": {
      "text/plain": [
       "(13779, 220, 220)"
      ]
     },
     "execution_count": 35,
     "metadata": {},
     "output_type": "execute_result"
    }
   ],
   "source": [
    "hematies_uninfected_array.shape"
   ]
  },
  {
   "cell_type": "code",
   "execution_count": 36,
   "metadata": {},
   "outputs": [
    {
     "ename": "MemoryError",
     "evalue": "Unable to allocate 2.48 GiB for an array with shape (13779, 220, 220) and data type float32",
     "output_type": "error",
     "traceback": [
      "\u001b[1;31m---------------------------------------------------------------------------\u001b[0m",
      "\u001b[1;31mMemoryError\u001b[0m                               Traceback (most recent call last)",
      "Cell \u001b[1;32mIn[36], line 1\u001b[0m\n\u001b[1;32m----> 1\u001b[0m images_n_array \u001b[38;5;241m=\u001b[39m \u001b[43mhematies_uninfected_array\u001b[49m\u001b[38;5;241;43m.\u001b[39;49m\u001b[43mastype\u001b[49m\u001b[43m(\u001b[49m\u001b[38;5;124;43m\"\u001b[39;49m\u001b[38;5;124;43mfloat32\u001b[39;49m\u001b[38;5;124;43m\"\u001b[39;49m\u001b[43m)\u001b[49m\u001b[43m \u001b[49m\u001b[38;5;241;43m/\u001b[39;49m\u001b[43m \u001b[49m\u001b[43m(\u001b[49m\u001b[38;5;241;43m255\u001b[39;49m\u001b[43m \u001b[49m\u001b[38;5;241;43m-\u001b[39;49m\u001b[43m \u001b[49m\u001b[38;5;241;43m0\u001b[39;49m\u001b[43m)\u001b[49m\n",
      "\u001b[1;31mMemoryError\u001b[0m: Unable to allocate 2.48 GiB for an array with shape (13779, 220, 220) and data type float32"
     ]
    }
   ],
   "source": [
    "images_n_array = hematies_uninfected_array.astype(\"float32\") / (255 - 0)"
   ]
  },
  {
   "cell_type": "code",
   "execution_count": 32,
   "metadata": {},
   "outputs": [
    {
     "data": {
      "text/plain": [
       "(13779, 220, 220, 1)"
      ]
     },
     "execution_count": 32,
     "metadata": {},
     "output_type": "execute_result"
    }
   ],
   "source": [
    "images_n_array.shape"
   ]
  },
  {
   "cell_type": "code",
   "execution_count": 30,
   "metadata": {},
   "outputs": [],
   "source": [
    "images_n_array = np.expand_dims(images_n_array, axis=-1)"
   ]
  },
  {
   "cell_type": "code",
   "execution_count": null,
   "metadata": {},
   "outputs": [],
   "source": [
    "from sklearn.preprocessing import LabelEncoder\n",
    "\n",
    "label_encoder = LabelEncoder()"
   ]
  }
 ],
 "metadata": {
  "kernelspec": {
   "display_name": "EC_env",
   "language": "python",
   "name": "ec_env"
  },
  "language_info": {
   "codemirror_mode": {
    "name": "ipython",
    "version": 3
   },
   "file_extension": ".py",
   "mimetype": "text/x-python",
   "name": "python",
   "nbconvert_exporter": "python",
   "pygments_lexer": "ipython3",
   "version": "3.12.0"
  }
 },
 "nbformat": 4,
 "nbformat_minor": 2
}
